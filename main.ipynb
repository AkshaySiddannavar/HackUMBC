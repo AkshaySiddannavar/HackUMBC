{
 "cells": [
  {
   "cell_type": "code",
   "execution_count": 4,
   "id": "2e5f0438",
   "metadata": {},
   "outputs": [
    {
     "name": "stdout",
     "output_type": "stream",
     "text": [
      "            new_cases\n",
      "date                 \n",
      "2021-10-25   104829.0\n",
      "2021-10-26    79971.0\n",
      "2021-10-27    99694.0\n",
      "2021-10-28    78128.0\n",
      "2021-10-29    97361.0\n"
     ]
    }
   ],
   "source": [
    "from pmdarima import auto_arima\n",
    "import warnings\n",
    "import numpy as np\n",
    "import pandas as pd\n",
    "import matplotlib.pyplot as plt\n",
    "import seaborn as sns\n",
    "import re\n",
    "from statsmodels.tsa.arima.model import ARIMA\n",
    "from datetime import timedelta\n",
    "\n",
    "\n",
    "new_cases = \"https://raw.githubusercontent.com/owid/covid-19-data/master/public/data/jhu/new_cases.csv\"\n",
    "\n",
    "cases_df = pd.read_csv(new_cases)\n",
    "\n",
    "india_df = pd.DataFrame()\n",
    "india_df[\"new_cases\"] = cases_df[\"India\"][:-1]\n",
    "\n",
    "usa_df = pd.DataFrame()\n",
    "usa_df[\"new_cases\"] = cases_df[\"United States\"][:-1]\n",
    "\n",
    "india_df.index = pd.to_datetime(cases_df[\"date\"][:-1])\n",
    "\n",
    "usa_df.index = pd.to_datetime(cases_df[\"date\"][:-1])\n",
    "\n",
    "india_df.dropna(inplace = True)\n",
    "\n",
    "usa_df.dropna(inplace = True)\n",
    "\n",
    "print(usa_df.tail())"
   ]
  },
  {
   "cell_type": "code",
   "execution_count": 5,
   "id": "25c9aae3",
   "metadata": {},
   "outputs": [],
   "source": [
    "def arima_predict(dfs, days_ahead):\n",
    "    \"\"\"\n",
    "        A Function which takes an List of dataframes, and an integer between 1 to 7 for number of days for prediction.\n",
    "        This is limited because if the number of days increases, the model may take alot of time to compute.\n",
    "        Returns an List of arrays, consisting of the \"days_ahead\" values predictions of the given dataframes.\n",
    "    \"\"\"\n",
    "    \n",
    "    start_date = dfs[0].iloc[-1].name\n",
    "    \n",
    "    predictions = []\n",
    "    \n",
    "    for df in dfs:\n",
    "        # Taking into consideration only recent cases to avoid overfitting\n",
    "        df = df[-125:]\n",
    "        \n",
    "        warnings.filterwarnings(\"ignore\")\n",
    "\n",
    "\n",
    "        stepwise_fit = auto_arima(df[\"new_cases\"], stepwise=True, trace = True, suppress_warnings = True)\n",
    "        \n",
    "        summary_string = str(stepwise_fit.summary())\n",
    "        \n",
    "        param = re.findall('SARIMAX\\(([0-9]+), ([0-9]+), ([0-9]+)',summary_string)\n",
    "        \n",
    "        p,d,q = int(param[0][0]) , int(param[0][1]) , int(param[0][2])\n",
    "\n",
    "        model=ARIMA(df['new_cases'],order=(p, d, q))\n",
    "        model_fit=model.fit()\n",
    "\n",
    "        model_fit.summary()\n",
    "        \n",
    "        pred = model_fit.predict(start = len(df), end = len(df) + days_ahead - 1, typ = 'levels')\n",
    "\n",
    "        index_future_dates = pd.date_range(start = start_date + timedelta(days=1), end = start_date + timedelta(days=(days_ahead)))\n",
    "\n",
    "        pred.index = index_future_dates \n",
    "\n",
    "        predictions.append([pred])\n",
    "    return predictions"
   ]
  },
  {
   "cell_type": "code",
   "execution_count": 6,
   "id": "0f4f406b",
   "metadata": {},
   "outputs": [
    {
     "name": "stdout",
     "output_type": "stream",
     "text": [
      "Performing stepwise search to minimize aic\n",
      " ARIMA(2,1,2)(0,0,0)[0] intercept   : AIC=inf, Time=1.90 sec\n",
      " ARIMA(0,1,0)(0,0,0)[0] intercept   : AIC=2633.276, Time=0.02 sec\n",
      " ARIMA(1,1,0)(0,0,0)[0] intercept   : AIC=2604.080, Time=0.04 sec\n",
      " ARIMA(0,1,1)(0,0,0)[0] intercept   : AIC=2574.745, Time=0.22 sec\n",
      " ARIMA(0,1,0)(0,0,0)[0]             : AIC=2631.366, Time=0.17 sec\n",
      " ARIMA(1,1,1)(0,0,0)[0] intercept   : AIC=2576.735, Time=0.22 sec\n",
      " ARIMA(0,1,2)(0,0,0)[0] intercept   : AIC=2576.775, Time=0.20 sec\n",
      " ARIMA(1,1,2)(0,0,0)[0] intercept   : AIC=inf, Time=0.38 sec\n",
      " ARIMA(0,1,1)(0,0,0)[0]             : AIC=2574.560, Time=0.03 sec\n",
      " ARIMA(1,1,1)(0,0,0)[0]             : AIC=2576.554, Time=0.04 sec\n",
      " ARIMA(0,1,2)(0,0,0)[0]             : AIC=2576.558, Time=0.05 sec\n",
      " ARIMA(1,1,0)(0,0,0)[0]             : AIC=2602.134, Time=0.03 sec\n",
      " ARIMA(1,1,2)(0,0,0)[0]             : AIC=2578.634, Time=0.14 sec\n",
      "\n",
      "Best model:  ARIMA(0,1,1)(0,0,0)[0]          \n",
      "Total fit time: 3.946 seconds\n",
      "Performing stepwise search to minimize aic\n",
      " ARIMA(2,1,2)(0,0,0)[0] intercept   : AIC=3081.420, Time=0.15 sec\n",
      " ARIMA(0,1,0)(0,0,0)[0] intercept   : AIC=3158.965, Time=0.01 sec\n",
      " ARIMA(1,1,0)(0,0,0)[0] intercept   : AIC=3141.777, Time=0.02 sec\n",
      " ARIMA(0,1,1)(0,0,0)[0] intercept   : AIC=3091.047, Time=0.06 sec\n",
      " ARIMA(0,1,0)(0,0,0)[0]             : AIC=3156.979, Time=0.01 sec\n",
      " ARIMA(1,1,2)(0,0,0)[0] intercept   : AIC=3088.779, Time=0.09 sec\n",
      " ARIMA(2,1,1)(0,0,0)[0] intercept   : AIC=3078.475, Time=0.07 sec\n",
      " ARIMA(1,1,1)(0,0,0)[0] intercept   : AIC=3092.346, Time=0.08 sec\n",
      " ARIMA(2,1,0)(0,0,0)[0] intercept   : AIC=3105.241, Time=0.06 sec\n",
      " ARIMA(3,1,1)(0,0,0)[0] intercept   : AIC=3080.370, Time=0.10 sec\n",
      " ARIMA(3,1,0)(0,0,0)[0] intercept   : AIC=3096.730, Time=0.06 sec\n",
      " ARIMA(3,1,2)(0,0,0)[0] intercept   : AIC=3078.649, Time=0.28 sec\n",
      " ARIMA(2,1,1)(0,0,0)[0]             : AIC=3076.502, Time=0.07 sec\n",
      " ARIMA(1,1,1)(0,0,0)[0]             : AIC=3089.374, Time=0.06 sec\n",
      " ARIMA(2,1,0)(0,0,0)[0]             : AIC=3103.307, Time=0.04 sec\n",
      " ARIMA(3,1,1)(0,0,0)[0]             : AIC=3078.461, Time=0.12 sec\n",
      " ARIMA(2,1,2)(0,0,0)[0]             : AIC=3063.211, Time=0.17 sec\n",
      " ARIMA(1,1,2)(0,0,0)[0]             : AIC=3086.351, Time=0.09 sec\n",
      " ARIMA(3,1,2)(0,0,0)[0]             : AIC=3078.250, Time=0.22 sec\n",
      " ARIMA(2,1,3)(0,0,0)[0]             : AIC=3059.025, Time=0.35 sec\n",
      " ARIMA(1,1,3)(0,0,0)[0]             : AIC=3078.556, Time=0.11 sec\n",
      " ARIMA(3,1,3)(0,0,0)[0]             : AIC=3058.960, Time=0.44 sec\n",
      " ARIMA(4,1,3)(0,0,0)[0]             : AIC=3060.603, Time=0.44 sec\n",
      " ARIMA(3,1,4)(0,0,0)[0]             : AIC=3050.681, Time=0.64 sec\n",
      " ARIMA(2,1,4)(0,0,0)[0]             : AIC=3061.424, Time=0.25 sec\n",
      " ARIMA(4,1,4)(0,0,0)[0]             : AIC=inf, Time=0.77 sec\n",
      " ARIMA(3,1,5)(0,0,0)[0]             : AIC=3051.516, Time=0.72 sec\n",
      " ARIMA(2,1,5)(0,0,0)[0]             : AIC=3057.309, Time=0.76 sec\n",
      " ARIMA(4,1,5)(0,0,0)[0]             : AIC=3053.754, Time=0.77 sec\n",
      " ARIMA(3,1,4)(0,0,0)[0] intercept   : AIC=3056.539, Time=0.66 sec\n",
      "\n",
      "Best model:  ARIMA(3,1,4)(0,0,0)[0]          \n",
      "Total fit time: 7.721 seconds\n"
     ]
    }
   ],
   "source": [
    "final_predictions = arima_predict([india_df, usa_df], 7)"
   ]
  },
  {
   "cell_type": "code",
   "execution_count": 7,
   "id": "55823d40",
   "metadata": {},
   "outputs": [
    {
     "name": "stdout",
     "output_type": "stream",
     "text": [
      "[[2021-10-30    14726.921547\n",
      "2021-10-31    14726.921547\n",
      "2021-11-01    14726.921547\n",
      "2021-11-02    14726.921547\n",
      "2021-11-03    14726.921547\n",
      "2021-11-04    14726.921547\n",
      "2021-11-05    14726.921547\n",
      "Freq: D, Name: predicted_mean, dtype: float64], [2021-10-30    39797.915035\n",
      "2021-10-31    59442.073438\n",
      "2021-11-01    81822.578575\n",
      "2021-11-02    61670.503876\n",
      "2021-11-03    56318.349202\n",
      "2021-11-04    83188.244517\n",
      "2021-11-05    78781.265788\n",
      "Freq: D, Name: predicted_mean, dtype: float64]]\n"
     ]
    }
   ],
   "source": [
    "print(final_predictions)"
   ]
  },
  {
   "cell_type": "code",
   "execution_count": 11,
   "id": "b8e67a2a",
   "metadata": {},
   "outputs": [
    {
     "data": {
      "text/plain": [
       "2021-10-30    14726.921547\n",
       "2021-10-31    14726.921547\n",
       "2021-11-01    14726.921547\n",
       "2021-11-02    14726.921547\n",
       "2021-11-03    14726.921547\n",
       "2021-11-04    14726.921547\n",
       "2021-11-05    14726.921547\n",
       "Freq: D, Name: predicted_mean, dtype: float64"
      ]
     },
     "execution_count": 11,
     "metadata": {},
     "output_type": "execute_result"
    }
   ],
   "source": [
    "final_predictions[0][0]"
   ]
  },
  {
   "cell_type": "code",
   "execution_count": null,
   "id": "5ae5e231",
   "metadata": {},
   "outputs": [],
   "source": []
  }
 ],
 "metadata": {
  "kernelspec": {
   "display_name": "Python 3",
   "language": "python",
   "name": "python3"
  },
  "language_info": {
   "codemirror_mode": {
    "name": "ipython",
    "version": 3
   },
   "file_extension": ".py",
   "mimetype": "text/x-python",
   "name": "python",
   "nbconvert_exporter": "python",
   "pygments_lexer": "ipython3",
   "version": "3.8.8"
  }
 },
 "nbformat": 4,
 "nbformat_minor": 5
}
